{
 "cells": [
  {
   "cell_type": "code",
   "execution_count": null,
   "metadata": {},
   "outputs": [],
   "source": [
    "# Lang Chain movie script exercise\n"
   ]
  },
  {
   "cell_type": "code",
   "execution_count": 34,
   "metadata": {},
   "outputs": [],
   "source": [
    "import os\n",
    "import configparser\n",
    "from langchain_core.messages import HumanMessage, SystemMessage\n",
    "from langchain_cohere import ChatCohere\n",
    "from langchain_groq import ChatGroq\n",
    "from langchain_core.chat_history import InMemoryChatMessageHistory\n",
    "from langchain_core.runnables.history import RunnableWithMessageHistory\n"
   ]
  },
  {
   "cell_type": "code",
   "execution_count": 35,
   "metadata": {},
   "outputs": [],
   "source": [
    "config = configparser.ConfigParser()\n",
    "config.read('../config.ini')  \n",
    "\n",
    "groq = config['groq']\n",
    "cohere = config['cohere']\n",
    "\n",
    "os.environ['GROQ_API_KEY'] = groq.get('GROQ_API_KEY')\n",
    "os.environ['COHERE_API_KEY'] = cohere.get('COHERE_API_KEY')\n"
   ]
  },
  {
   "cell_type": "code",
   "execution_count": null,
   "metadata": {},
   "outputs": [],
   "source": [
    "import random\n",
    "\n",
    "def actor_picker():\n",
    "    actors = [\"Chris Evans\", \"Tom Hanks\", \"Robert Downey Jr.\", \"Shah Rukh Khan\", \"Amitabh Bachchan\", \"Ranveer Singh\"]\n",
    "    return random.choice(actors)\n",
    "\n",
    "def location_picker():\n",
    "    locations = [\"New York\", \"Paris\", \"Tokyo\", \"Mumbai\", \"Delhi\", \"Chennai\"]\n",
    "    return random.choice(locations)\n",
    "\n",
    "def theme_picker():\n",
    "    themes = [\"Adventure\", \"Mystery\", \"Romance\", \"Comedy\", \"Thriller\", \"Drama\"]\n",
    "    return random.choice(themes)\n"
   ]
  },
  {
   "cell_type": "code",
   "execution_count": 37,
   "metadata": {},
   "outputs": [],
   "source": [
    "cohere_model = ChatCohere(model=\"command-r-plus\")\n",
    "groq_model = ChatGroq(model=\"llama3-8b-8192\")\n"
   ]
  },
  {
   "cell_type": "code",
   "execution_count": 38,
   "metadata": {},
   "outputs": [],
   "source": [
    "def create_script_prompt_with_context(actor, location, theme):\n",
    "    system_message = SystemMessage(content=\"You are a professional movie script writer. Your task is to create compelling scripts based on given actors, locations, and themes. Include scene descriptions, character dialogues, and a plot twist.\")\n",
    "    human_message = HumanMessage(content=f\"Write a short movie script starring {actor}, set in {location}, with the theme of {theme}. Make it engaging and thrilling.\")\n",
    "    \n",
    "    return [system_message, human_message]"
   ]
  },
  {
   "cell_type": "code",
   "execution_count": 39,
   "metadata": {},
   "outputs": [],
   "source": [
    "def story_cohere():\n",
    "    actor = actor_picker()\n",
    "    location = location_picker()\n",
    "    theme = theme_picker()\n",
    "    \n",
    "    story_template = story_temp(actor, location, theme)\n",
    "    response = cohere_model.invoke([HumanMessage(content=story_template)])\n",
    "    return response.content\n",
    "\n",
    "def story_groq():\n",
    "    actor = actor_picker()\n",
    "    location = location_picker()\n",
    "    theme = theme_picker()\n",
    "    \n",
    "    story_template = story_temp(actor, location, theme)\n",
    "    response = groq_model.invoke([HumanMessage(content=story_template)])\n",
    "    return response.content\n"
   ]
  },
  {
   "cell_type": "code",
   "execution_count": 40,
   "metadata": {},
   "outputs": [],
   "source": [
    "store = {}\n",
    "\n",
    "def get_session_history(session_id: str):\n",
    "    if session_id not in store:\n",
    "        store[session_id] = InMemoryChatMessageHistory()\n",
    "    return store[session_id]\n"
   ]
  },
  {
   "cell_type": "code",
   "execution_count": 41,
   "metadata": {},
   "outputs": [],
   "source": [
    "def update_story(user_input, session_id, model_choice):\n",
    "    session_history = get_session_history(session_id)\n",
    "    session_history.add_message(HumanMessage(content=user_input))\n",
    "    \n",
    "    messages = session_history.messages  \n",
    "    \n",
    "    if model_choice == 'cohere':\n",
    "        response = cohere_model.invoke([message for message in messages if isinstance(message, (HumanMessage, SystemMessage))])\n",
    "    elif model_choice == 'groq':\n",
    "        response = groq_model.invoke([message for message in messages if isinstance(message, (HumanMessage, SystemMessage))])\n",
    "    else:\n",
    "        return \"Invalid model choice\"\n",
    "    \n",
    "    updated_story = response.content\n",
    "    session_history.add_message(SystemMessage(content=updated_story))\n",
    "    \n",
    "    return updated_story\n"
   ]
  },
  {
   "cell_type": "code",
   "execution_count": null,
   "metadata": {},
   "outputs": [
    {
     "name": "stdout",
     "output_type": "stream",
     "text": [
      "Generating a short story using Cohere:\n",
      "Story from Cohere Model:\n",
      "Tom Hanks found himself in the bustling city of Los Angeles, eager to embark on a new adventure. With his curious spirit, he explored the vibrant streets of the city, from the bustling Hollywood Boulevard to the serene beaches of Venice. \n",
      "\n",
      "As he wandered, he discovered a hidden trailhead, beckoning him to venture into the unknown. He stepped into a world of mystery and excitement, where he encountered unique characters and uncovered the city's hidden gems. \n",
      "\n",
      "With each new discovery, Tom embraced the thrill of the unknown, creating memories that would forever be etched in his mind. Thus, his Los Angeles adventure became a testament to the power of exploration and the magic that awaits those who dare to seek it.\n",
      "\n",
      "Generating a short story using Groq:\n",
      "Story from Groq Model:\n",
      "Robert Downey Jr. strolled through Tokyo's neon-lit streets, his Tony Stark wit at the ready. As he navigated a crowded ramen shop, he accidentally knocked over a steaming bowl, covering his suit in a bright orange mess.\n",
      "\n",
      "The chef, a gruff but amused Japanese man, exclaimed, \"Ah, Iron Man-san, you are a true hero... of clumsiness!\"\n",
      "\n",
      "RDJ laughed, \"Well, when you're used to saving the world, saving face is a little less of a priority!\"\n",
      "\n",
      "The chef chuckled, \"In that case, sir, your bill is on the house... and so is a complimentary apron!\"\n",
      "\n",
      "As RDJ left the shop, apron-clad and still chuckling, he quipped, \"I guess that's what they mean by 'a taste of Tokyo'!\"\n",
      "\n",
      "\n",
      "Updating story using Cohere...\n",
      "Updated Story (Cohere):\n",
      "\n",
      "In the bustling city of Tokyo, where vibrant neon lights illuminated the streets, Robert Downey Jr., charismatic as ever, found himself entangled in a lighthearted mishap at a bustling ramen shop. As he navigated the crowded space, his clumsiness got the better of him, and he accidentally knocked over a steaming bowl of ramen, the bright orange broth splattering across his suit. \n",
      "\n",
      "Amidst the chaos, a mysterious figure emerged from the intrigued onlookers. It was none other than Tom Hanks, intrigued by the commotion and drawn to the familiar face of his fellow actor. Always eager for a new adventure, Hanks played the part of the heroine, stepping forward to save the day and perhaps, unknowingly, RDJ's suit as well! \n",
      "\n",
      "With a playful smile, Tom Hanks approached his fellow actor and extended a helping hand. \"Looks like you could use a bit of assistance, my friend. Allow me to come to the rescue, both for your suit and your appetite!\" he exclaimed, his voice carrying a hint of playful heroism. \n",
      "\n",
      "RDJ, recognizing the familiar face, exclaimed, \"Tom Hanks! Is that you? Well, I must say, I could use a hero right about now. This suit is a mess, and my pride is slightly bruised.\" \n",
      "\n",
      "Tom, ever the gentleman, reassured RDJ, \"Not to worry, my friend. I have just the solution. Follow me, and we shall remedy this situation, ensuring your suit is as good as new and your stomach happily filled.\" \n",
      "\n",
      "And so, the two actors embarked on a lighthearted adventure through the lively streets of Tokyo. Tom, playing the part of the knowledgeable guide, led RDJ to a hidden gem of a laundry shop, where they were able to clean and restore RDJr's suit to its former glory. \n",
      "\n",
      "As they wandered, they shared stories of their respective adventures, both on screen and off. They compared notes on their unique experiences, laughing and creating new memories together. The once-disastrous ramen incident had now transformed into a hilarious anecdote, one that they would fondly recall in the future. \n",
      "\n",
      "Thanks to Tom Hanks' timely intervention and playful heroism, RDJ's suit was saved, his appetite was satisfied, and a new friendship was forged, all amidst the captivating backdrop of Tokyo's vibrant cityscape. \n",
      "\n",
      "And so, the tale of the ramen shop mishap became a testament to the power of camaraderie among actors, where a simple act of kindness and a shared sense of humor created a bond that would forever link these two iconic figures. \n",
      "\n",
      "Thus, the city of Tokyo witnessed the unique intersection of their Hollywood lives, forever etching this memorable encounter into the annals of their adventurous journeys.\n",
      "\n",
      "Updating story using Groq...\n",
      "Updated Story (Groq):\n",
      "\n",
      "It seems that you would like to revise the story to have the heroine (Tom Hanks) enter the scene to help Robert Downey Jr. (RDJ) in a more dramatic and heroic way.\n",
      "\n",
      "Here's a revised version of the story:\n",
      "\n",
      "As RDJ stood amidst the chaos, his suit dripping with ramen broth, Tom Hanks burst into the ramen shop, his eyes scanning the scene with a sense of urgency. He quickly assessed the situation and sprang into action, grabbing a nearby apron and wrapping it around RDJ's waist to protect his suit.\n",
      "\n",
      "\"Quick, we need to get you out of here before you make a mess of the entire city!\" Tom exclaimed, his voice firm and commanding.\n",
      "\n",
      "RDJ, still dazed from the accident, looked up at Tom in surprise. \"Tom Hanks? What are you doing here?\"\n",
      "\n",
      "Tom's response was swift and decisive. \"I'm here to save you, my friend. Now, let's get moving!\"\n",
      "\n",
      "With Tom's help, RDJ was led out of the ramen shop and into the bustling streets of Tokyo. As they navigated the crowded sidewalks, Tom expertly guided RDJ through the throngs of people, dodging pedestrians and market stalls with ease.\n",
      "\n",
      "As they walked, Tom continued to regale RDJ with stories of his own adventures, from saving the world from aliens to discovering hidden treasures on distant planets. RDJ, still in awe of Tom's heroics, listened intently, his eyes wide with wonder.\n",
      "\n",
      "Their escapades through Tokyo continued, with Tom leading the way and RDJ following closely behind. They visited ancient temples, explored hidden gardens, and sampled delicious street food. With each passing moment, their bond grew stronger, forged in the fires of adventure and camaraderie.\n",
      "\n",
      "As the sun began to set over the city, Tom and RDJ finally made their way back to their hotel, tired but exhilarated from their day of exploration. As they parted ways, RDJ turned to Tom with a grateful smile.\n",
      "\n",
      "\"Thanks, Tom. I don't know what I would have done without you today. You're a true hero.\"\n",
      "\n",
      "Tom chuckled, his eyes twinkling with warmth. \"It's all in a day's work, my friend. Now, let's get some rest and plan our next adventure.\"\n",
      "\n",
      "And with that, the two actors disappeared into the night, ready to face whatever exciting challenges lay ahead.\n",
      "\n"
     ]
    }
   ],
   "source": [
    "session_id = \"test\"\n",
    "\n",
    "print(\"Generating a short story using Cohere:\")\n",
    "cohere_story = story_cohere()\n",
    "print(f\"Story from Cohere Model:\\n{cohere_story}\\n\")\n",
    "store[session_id] = InMemoryChatMessageHistory()\n",
    "store[session_id].add_message(SystemMessage(content=cohere_story))\n",
    "print(\"Generating a short story using Groq:\")\n",
    "groq_story = story_groq()\n",
    "print(f\"Story from Groq Model:\\n{groq_story}\\n\")\n",
    "store[session_id].add_message(SystemMessage(content=groq_story))\n",
    "user_input = input(\"Enter your update for the story (or type 'exit' to finish): \")\n",
    "print(\"\\nUpdating story using Cohere...\")\n",
    "updated_story = update_story(user_input, session_id, model_choice='cohere')\n",
    "print(f\"Updated Story (Cohere):\\n\\n{updated_story}\\n\")\n",
    "print(\"Updating story using Groq...\")\n",
    "updated_story_groq = update_story(user_input, session_id, model_choice='groq')\n",
    "print(f\"Updated Story (Groq):\\n\\n{updated_story_groq}\\n\")\n"
   ]
  },
  {
   "cell_type": "code",
   "execution_count": 44,
   "metadata": {},
   "outputs": [
    {
     "name": "stdout",
     "output_type": "stream",
     "text": [
      "{'test': InMemoryChatMessageHistory(messages=[SystemMessage(content=\"Tom Hanks found himself in the bustling city of Los Angeles, eager to embark on a new adventure. With his curious spirit, he explored the vibrant streets of the city, from the bustling Hollywood Boulevard to the serene beaches of Venice. \\n\\nAs he wandered, he discovered a hidden trailhead, beckoning him to venture into the unknown. He stepped into a world of mystery and excitement, where he encountered unique characters and uncovered the city's hidden gems. \\n\\nWith each new discovery, Tom embraced the thrill of the unknown, creating memories that would forever be etched in his mind. Thus, his Los Angeles adventure became a testament to the power of exploration and the magic that awaits those who dare to seek it.\", additional_kwargs={}, response_metadata={}), SystemMessage(content='Robert Downey Jr. strolled through Tokyo\\'s neon-lit streets, his Tony Stark wit at the ready. As he navigated a crowded ramen shop, he accidentally knocked over a steaming bowl, covering his suit in a bright orange mess.\\n\\nThe chef, a gruff but amused Japanese man, exclaimed, \"Ah, Iron Man-san, you are a true hero... of clumsiness!\"\\n\\nRDJ laughed, \"Well, when you\\'re used to saving the world, saving face is a little less of a priority!\"\\n\\nThe chef chuckled, \"In that case, sir, your bill is on the house... and so is a complimentary apron!\"\\n\\nAs RDJ left the shop, apron-clad and still chuckling, he quipped, \"I guess that\\'s what they mean by \\'a taste of Tokyo\\'!\"', additional_kwargs={}, response_metadata={}), HumanMessage(content='heroine enters into actors like to help hime and save his life', additional_kwargs={}, response_metadata={}), SystemMessage(content='In the bustling city of Tokyo, where vibrant neon lights illuminated the streets, Robert Downey Jr., charismatic as ever, found himself entangled in a lighthearted mishap at a bustling ramen shop. As he navigated the crowded space, his clumsiness got the better of him, and he accidentally knocked over a steaming bowl of ramen, the bright orange broth splattering across his suit. \\n\\nAmidst the chaos, a mysterious figure emerged from the intrigued onlookers. It was none other than Tom Hanks, intrigued by the commotion and drawn to the familiar face of his fellow actor. Always eager for a new adventure, Hanks played the part of the heroine, stepping forward to save the day and perhaps, unknowingly, RDJ\\'s suit as well! \\n\\nWith a playful smile, Tom Hanks approached his fellow actor and extended a helping hand. \"Looks like you could use a bit of assistance, my friend. Allow me to come to the rescue, both for your suit and your appetite!\" he exclaimed, his voice carrying a hint of playful heroism. \\n\\nRDJ, recognizing the familiar face, exclaimed, \"Tom Hanks! Is that you? Well, I must say, I could use a hero right about now. This suit is a mess, and my pride is slightly bruised.\" \\n\\nTom, ever the gentleman, reassured RDJ, \"Not to worry, my friend. I have just the solution. Follow me, and we shall remedy this situation, ensuring your suit is as good as new and your stomach happily filled.\" \\n\\nAnd so, the two actors embarked on a lighthearted adventure through the lively streets of Tokyo. Tom, playing the part of the knowledgeable guide, led RDJ to a hidden gem of a laundry shop, where they were able to clean and restore RDJr\\'s suit to its former glory. \\n\\nAs they wandered, they shared stories of their respective adventures, both on screen and off. They compared notes on their unique experiences, laughing and creating new memories together. The once-disastrous ramen incident had now transformed into a hilarious anecdote, one that they would fondly recall in the future. \\n\\nThanks to Tom Hanks\\' timely intervention and playful heroism, RDJ\\'s suit was saved, his appetite was satisfied, and a new friendship was forged, all amidst the captivating backdrop of Tokyo\\'s vibrant cityscape. \\n\\nAnd so, the tale of the ramen shop mishap became a testament to the power of camaraderie among actors, where a simple act of kindness and a shared sense of humor created a bond that would forever link these two iconic figures. \\n\\nThus, the city of Tokyo witnessed the unique intersection of their Hollywood lives, forever etching this memorable encounter into the annals of their adventurous journeys.', additional_kwargs={}, response_metadata={}), HumanMessage(content='heroine enters into actors like to help hime and save his life', additional_kwargs={}, response_metadata={}), SystemMessage(content='It seems that you would like to revise the story to have the heroine (Tom Hanks) enter the scene to help Robert Downey Jr. (RDJ) in a more dramatic and heroic way.\\n\\nHere\\'s a revised version of the story:\\n\\nAs RDJ stood amidst the chaos, his suit dripping with ramen broth, Tom Hanks burst into the ramen shop, his eyes scanning the scene with a sense of urgency. He quickly assessed the situation and sprang into action, grabbing a nearby apron and wrapping it around RDJ\\'s waist to protect his suit.\\n\\n\"Quick, we need to get you out of here before you make a mess of the entire city!\" Tom exclaimed, his voice firm and commanding.\\n\\nRDJ, still dazed from the accident, looked up at Tom in surprise. \"Tom Hanks? What are you doing here?\"\\n\\nTom\\'s response was swift and decisive. \"I\\'m here to save you, my friend. Now, let\\'s get moving!\"\\n\\nWith Tom\\'s help, RDJ was led out of the ramen shop and into the bustling streets of Tokyo. As they navigated the crowded sidewalks, Tom expertly guided RDJ through the throngs of people, dodging pedestrians and market stalls with ease.\\n\\nAs they walked, Tom continued to regale RDJ with stories of his own adventures, from saving the world from aliens to discovering hidden treasures on distant planets. RDJ, still in awe of Tom\\'s heroics, listened intently, his eyes wide with wonder.\\n\\nTheir escapades through Tokyo continued, with Tom leading the way and RDJ following closely behind. They visited ancient temples, explored hidden gardens, and sampled delicious street food. With each passing moment, their bond grew stronger, forged in the fires of adventure and camaraderie.\\n\\nAs the sun began to set over the city, Tom and RDJ finally made their way back to their hotel, tired but exhilarated from their day of exploration. As they parted ways, RDJ turned to Tom with a grateful smile.\\n\\n\"Thanks, Tom. I don\\'t know what I would have done without you today. You\\'re a true hero.\"\\n\\nTom chuckled, his eyes twinkling with warmth. \"It\\'s all in a day\\'s work, my friend. Now, let\\'s get some rest and plan our next adventure.\"\\n\\nAnd with that, the two actors disappeared into the night, ready to face whatever exciting challenges lay ahead.', additional_kwargs={}, response_metadata={})])}\n"
     ]
    }
   ],
   "source": [
    "print(store)"
   ]
  }
 ],
 "metadata": {
  "kernelspec": {
   "display_name": "Python 3",
   "language": "python",
   "name": "python3"
  },
  "language_info": {
   "codemirror_mode": {
    "name": "ipython",
    "version": 3
   },
   "file_extension": ".py",
   "mimetype": "text/x-python",
   "name": "python",
   "nbconvert_exporter": "python",
   "pygments_lexer": "ipython3",
   "version": "3.12.1"
  }
 },
 "nbformat": 4,
 "nbformat_minor": 2
}
